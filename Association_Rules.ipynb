{
 "cells": [
  {
   "cell_type": "code",
   "execution_count": 209,
   "id": "419b45c4-2e91-44e6-b9cc-404f3dffec92",
   "metadata": {},
   "outputs": [],
   "source": [
    "import pandas as pd\n",
    "df = pd.read_pickle('Recipes_data_Whole_Sim_Ingrs.pkl')"
   ]
  },
  {
   "cell_type": "code",
   "execution_count": 210,
   "id": "0f78a331-d3ef-4047-a021-94f879d09d1b",
   "metadata": {},
   "outputs": [
    {
     "data": {
      "text/plain": [
       "Index(['index', 'Title', '', 'Almond Red Sauce', 'Apple Cider Sauce',\n",
       "       'Arroz a la Mexicana Perfect Mexican Rice', 'Balsamic Glaze',\n",
       "       'Balti Masala Spice Mix', 'Barbs Special Sweet Breads Part I',\n",
       "       'Basic Pte Choux Quick Change Pastry Puffs',\n",
       "       ...\n",
       "       'yeast cakes', 'yellow corn', 'yellow crookneck squash',\n",
       "       'yellow hominy', 'yellow summer squash', 'yerba buena', 'yogurt',\n",
       "       'yucca', 'zucchini', 'zwieback crumbs'],\n",
       "      dtype='object', name='Ingredients', length=1617)"
      ]
     },
     "execution_count": 210,
     "metadata": {},
     "output_type": "execute_result"
    }
   ],
   "source": [
    "df_exploded = df.explode('Ingredients')\n",
    "df_exploded['Value'] = 1\n",
    "df_pivot = df_exploded.groupby(['Title', 'Ingredients'])['Value'].sum().unstack(fill_value=0).reset_index()\n",
    "df_pivot.reset_index(inplace=True)\n",
    "df_pivot.columns"
   ]
  },
  {
   "cell_type": "code",
   "execution_count": 211,
   "id": "3c0cb15f-f299-4f9d-bf2f-91da1c3c066b",
   "metadata": {},
   "outputs": [
    {
     "data": {
      "text/html": [
       "<div>\n",
       "<style scoped>\n",
       "    .dataframe tbody tr th:only-of-type {\n",
       "        vertical-align: middle;\n",
       "    }\n",
       "\n",
       "    .dataframe tbody tr th {\n",
       "        vertical-align: top;\n",
       "    }\n",
       "\n",
       "    .dataframe thead th {\n",
       "        text-align: right;\n",
       "    }\n",
       "</style>\n",
       "<table border=\"1\" class=\"dataframe\">\n",
       "  <thead>\n",
       "    <tr style=\"text-align: right;\">\n",
       "      <th>Ingredients</th>\n",
       "      <th></th>\n",
       "      <th>Almond Red Sauce</th>\n",
       "      <th>Apple Cider Sauce</th>\n",
       "      <th>Arroz a la Mexicana Perfect Mexican Rice</th>\n",
       "      <th>Balsamic Glaze</th>\n",
       "      <th>Balti Masala Spice Mix</th>\n",
       "      <th>Barbs Special Sweet Breads Part I</th>\n",
       "      <th>Basic Pte Choux Quick Change Pastry Puffs</th>\n",
       "      <th>Ben Jerrys Sweet Ice Cream Base</th>\n",
       "      <th>Chaat Powder Masala</th>\n",
       "      <th>...</th>\n",
       "      <th>yeast cakes</th>\n",
       "      <th>yellow corn</th>\n",
       "      <th>yellow crookneck squash</th>\n",
       "      <th>yellow hominy</th>\n",
       "      <th>yellow summer squash</th>\n",
       "      <th>yerba buena</th>\n",
       "      <th>yogurt</th>\n",
       "      <th>yucca</th>\n",
       "      <th>zucchini</th>\n",
       "      <th>zwieback crumbs</th>\n",
       "    </tr>\n",
       "  </thead>\n",
       "  <tbody>\n",
       "    <tr>\n",
       "      <th>0</th>\n",
       "      <td>False</td>\n",
       "      <td>False</td>\n",
       "      <td>False</td>\n",
       "      <td>False</td>\n",
       "      <td>False</td>\n",
       "      <td>False</td>\n",
       "      <td>False</td>\n",
       "      <td>False</td>\n",
       "      <td>False</td>\n",
       "      <td>False</td>\n",
       "      <td>...</td>\n",
       "      <td>False</td>\n",
       "      <td>False</td>\n",
       "      <td>False</td>\n",
       "      <td>False</td>\n",
       "      <td>False</td>\n",
       "      <td>False</td>\n",
       "      <td>False</td>\n",
       "      <td>False</td>\n",
       "      <td>False</td>\n",
       "      <td>False</td>\n",
       "    </tr>\n",
       "    <tr>\n",
       "      <th>1</th>\n",
       "      <td>False</td>\n",
       "      <td>False</td>\n",
       "      <td>False</td>\n",
       "      <td>False</td>\n",
       "      <td>False</td>\n",
       "      <td>False</td>\n",
       "      <td>False</td>\n",
       "      <td>False</td>\n",
       "      <td>False</td>\n",
       "      <td>False</td>\n",
       "      <td>...</td>\n",
       "      <td>False</td>\n",
       "      <td>False</td>\n",
       "      <td>False</td>\n",
       "      <td>False</td>\n",
       "      <td>False</td>\n",
       "      <td>False</td>\n",
       "      <td>False</td>\n",
       "      <td>False</td>\n",
       "      <td>False</td>\n",
       "      <td>False</td>\n",
       "    </tr>\n",
       "    <tr>\n",
       "      <th>2</th>\n",
       "      <td>False</td>\n",
       "      <td>False</td>\n",
       "      <td>False</td>\n",
       "      <td>False</td>\n",
       "      <td>False</td>\n",
       "      <td>False</td>\n",
       "      <td>False</td>\n",
       "      <td>False</td>\n",
       "      <td>False</td>\n",
       "      <td>False</td>\n",
       "      <td>...</td>\n",
       "      <td>False</td>\n",
       "      <td>False</td>\n",
       "      <td>False</td>\n",
       "      <td>False</td>\n",
       "      <td>False</td>\n",
       "      <td>False</td>\n",
       "      <td>False</td>\n",
       "      <td>False</td>\n",
       "      <td>False</td>\n",
       "      <td>False</td>\n",
       "    </tr>\n",
       "    <tr>\n",
       "      <th>3</th>\n",
       "      <td>False</td>\n",
       "      <td>False</td>\n",
       "      <td>False</td>\n",
       "      <td>False</td>\n",
       "      <td>False</td>\n",
       "      <td>False</td>\n",
       "      <td>False</td>\n",
       "      <td>False</td>\n",
       "      <td>False</td>\n",
       "      <td>False</td>\n",
       "      <td>...</td>\n",
       "      <td>False</td>\n",
       "      <td>False</td>\n",
       "      <td>False</td>\n",
       "      <td>False</td>\n",
       "      <td>False</td>\n",
       "      <td>False</td>\n",
       "      <td>False</td>\n",
       "      <td>False</td>\n",
       "      <td>False</td>\n",
       "      <td>False</td>\n",
       "    </tr>\n",
       "    <tr>\n",
       "      <th>4</th>\n",
       "      <td>False</td>\n",
       "      <td>False</td>\n",
       "      <td>False</td>\n",
       "      <td>False</td>\n",
       "      <td>False</td>\n",
       "      <td>False</td>\n",
       "      <td>False</td>\n",
       "      <td>False</td>\n",
       "      <td>False</td>\n",
       "      <td>False</td>\n",
       "      <td>...</td>\n",
       "      <td>False</td>\n",
       "      <td>False</td>\n",
       "      <td>False</td>\n",
       "      <td>False</td>\n",
       "      <td>False</td>\n",
       "      <td>False</td>\n",
       "      <td>False</td>\n",
       "      <td>False</td>\n",
       "      <td>False</td>\n",
       "      <td>False</td>\n",
       "    </tr>\n",
       "    <tr>\n",
       "      <th>...</th>\n",
       "      <td>...</td>\n",
       "      <td>...</td>\n",
       "      <td>...</td>\n",
       "      <td>...</td>\n",
       "      <td>...</td>\n",
       "      <td>...</td>\n",
       "      <td>...</td>\n",
       "      <td>...</td>\n",
       "      <td>...</td>\n",
       "      <td>...</td>\n",
       "      <td>...</td>\n",
       "      <td>...</td>\n",
       "      <td>...</td>\n",
       "      <td>...</td>\n",
       "      <td>...</td>\n",
       "      <td>...</td>\n",
       "      <td>...</td>\n",
       "      <td>...</td>\n",
       "      <td>...</td>\n",
       "      <td>...</td>\n",
       "      <td>...</td>\n",
       "    </tr>\n",
       "    <tr>\n",
       "      <th>7805</th>\n",
       "      <td>False</td>\n",
       "      <td>False</td>\n",
       "      <td>False</td>\n",
       "      <td>False</td>\n",
       "      <td>False</td>\n",
       "      <td>False</td>\n",
       "      <td>False</td>\n",
       "      <td>False</td>\n",
       "      <td>False</td>\n",
       "      <td>False</td>\n",
       "      <td>...</td>\n",
       "      <td>False</td>\n",
       "      <td>False</td>\n",
       "      <td>False</td>\n",
       "      <td>False</td>\n",
       "      <td>False</td>\n",
       "      <td>False</td>\n",
       "      <td>True</td>\n",
       "      <td>False</td>\n",
       "      <td>True</td>\n",
       "      <td>False</td>\n",
       "    </tr>\n",
       "    <tr>\n",
       "      <th>7806</th>\n",
       "      <td>True</td>\n",
       "      <td>False</td>\n",
       "      <td>False</td>\n",
       "      <td>False</td>\n",
       "      <td>False</td>\n",
       "      <td>False</td>\n",
       "      <td>False</td>\n",
       "      <td>False</td>\n",
       "      <td>False</td>\n",
       "      <td>False</td>\n",
       "      <td>...</td>\n",
       "      <td>False</td>\n",
       "      <td>False</td>\n",
       "      <td>False</td>\n",
       "      <td>False</td>\n",
       "      <td>False</td>\n",
       "      <td>False</td>\n",
       "      <td>False</td>\n",
       "      <td>False</td>\n",
       "      <td>False</td>\n",
       "      <td>False</td>\n",
       "    </tr>\n",
       "    <tr>\n",
       "      <th>7807</th>\n",
       "      <td>False</td>\n",
       "      <td>False</td>\n",
       "      <td>False</td>\n",
       "      <td>False</td>\n",
       "      <td>False</td>\n",
       "      <td>False</td>\n",
       "      <td>False</td>\n",
       "      <td>False</td>\n",
       "      <td>False</td>\n",
       "      <td>False</td>\n",
       "      <td>...</td>\n",
       "      <td>False</td>\n",
       "      <td>False</td>\n",
       "      <td>False</td>\n",
       "      <td>False</td>\n",
       "      <td>False</td>\n",
       "      <td>False</td>\n",
       "      <td>False</td>\n",
       "      <td>False</td>\n",
       "      <td>True</td>\n",
       "      <td>False</td>\n",
       "    </tr>\n",
       "    <tr>\n",
       "      <th>7808</th>\n",
       "      <td>False</td>\n",
       "      <td>False</td>\n",
       "      <td>False</td>\n",
       "      <td>False</td>\n",
       "      <td>False</td>\n",
       "      <td>False</td>\n",
       "      <td>False</td>\n",
       "      <td>False</td>\n",
       "      <td>False</td>\n",
       "      <td>False</td>\n",
       "      <td>...</td>\n",
       "      <td>False</td>\n",
       "      <td>False</td>\n",
       "      <td>False</td>\n",
       "      <td>False</td>\n",
       "      <td>False</td>\n",
       "      <td>False</td>\n",
       "      <td>False</td>\n",
       "      <td>False</td>\n",
       "      <td>True</td>\n",
       "      <td>False</td>\n",
       "    </tr>\n",
       "    <tr>\n",
       "      <th>7809</th>\n",
       "      <td>False</td>\n",
       "      <td>False</td>\n",
       "      <td>False</td>\n",
       "      <td>False</td>\n",
       "      <td>False</td>\n",
       "      <td>False</td>\n",
       "      <td>False</td>\n",
       "      <td>False</td>\n",
       "      <td>False</td>\n",
       "      <td>False</td>\n",
       "      <td>...</td>\n",
       "      <td>False</td>\n",
       "      <td>False</td>\n",
       "      <td>False</td>\n",
       "      <td>False</td>\n",
       "      <td>False</td>\n",
       "      <td>False</td>\n",
       "      <td>False</td>\n",
       "      <td>False</td>\n",
       "      <td>False</td>\n",
       "      <td>False</td>\n",
       "    </tr>\n",
       "  </tbody>\n",
       "</table>\n",
       "<p>7810 rows × 1615 columns</p>\n",
       "</div>"
      ],
      "text/plain": [
       "Ingredients         Almond Red Sauce  Apple Cider Sauce  \\\n",
       "0            False             False              False   \n",
       "1            False             False              False   \n",
       "2            False             False              False   \n",
       "3            False             False              False   \n",
       "4            False             False              False   \n",
       "...            ...               ...                ...   \n",
       "7805         False             False              False   \n",
       "7806          True             False              False   \n",
       "7807         False             False              False   \n",
       "7808         False             False              False   \n",
       "7809         False             False              False   \n",
       "\n",
       "Ingredients  Arroz a la Mexicana Perfect Mexican Rice  Balsamic Glaze  \\\n",
       "0                                               False           False   \n",
       "1                                               False           False   \n",
       "2                                               False           False   \n",
       "3                                               False           False   \n",
       "4                                               False           False   \n",
       "...                                               ...             ...   \n",
       "7805                                            False           False   \n",
       "7806                                            False           False   \n",
       "7807                                            False           False   \n",
       "7808                                            False           False   \n",
       "7809                                            False           False   \n",
       "\n",
       "Ingredients  Balti Masala Spice Mix  Barbs Special Sweet Breads Part I  \\\n",
       "0                             False                              False   \n",
       "1                             False                              False   \n",
       "2                             False                              False   \n",
       "3                             False                              False   \n",
       "4                             False                              False   \n",
       "...                             ...                                ...   \n",
       "7805                          False                              False   \n",
       "7806                          False                              False   \n",
       "7807                          False                              False   \n",
       "7808                          False                              False   \n",
       "7809                          False                              False   \n",
       "\n",
       "Ingredients  Basic Pte Choux Quick Change Pastry Puffs  \\\n",
       "0                                                False   \n",
       "1                                                False   \n",
       "2                                                False   \n",
       "3                                                False   \n",
       "4                                                False   \n",
       "...                                                ...   \n",
       "7805                                             False   \n",
       "7806                                             False   \n",
       "7807                                             False   \n",
       "7808                                             False   \n",
       "7809                                             False   \n",
       "\n",
       "Ingredients  Ben Jerrys Sweet Ice Cream Base  Chaat Powder Masala  ...  \\\n",
       "0                                      False                False  ...   \n",
       "1                                      False                False  ...   \n",
       "2                                      False                False  ...   \n",
       "3                                      False                False  ...   \n",
       "4                                      False                False  ...   \n",
       "...                                      ...                  ...  ...   \n",
       "7805                                   False                False  ...   \n",
       "7806                                   False                False  ...   \n",
       "7807                                   False                False  ...   \n",
       "7808                                   False                False  ...   \n",
       "7809                                   False                False  ...   \n",
       "\n",
       "Ingredients  yeast cakes  yellow corn  yellow crookneck squash  yellow hominy  \\\n",
       "0                  False        False                    False          False   \n",
       "1                  False        False                    False          False   \n",
       "2                  False        False                    False          False   \n",
       "3                  False        False                    False          False   \n",
       "4                  False        False                    False          False   \n",
       "...                  ...          ...                      ...            ...   \n",
       "7805               False        False                    False          False   \n",
       "7806               False        False                    False          False   \n",
       "7807               False        False                    False          False   \n",
       "7808               False        False                    False          False   \n",
       "7809               False        False                    False          False   \n",
       "\n",
       "Ingredients  yellow summer squash  yerba buena  yogurt  yucca  zucchini  \\\n",
       "0                           False        False   False  False     False   \n",
       "1                           False        False   False  False     False   \n",
       "2                           False        False   False  False     False   \n",
       "3                           False        False   False  False     False   \n",
       "4                           False        False   False  False     False   \n",
       "...                           ...          ...     ...    ...       ...   \n",
       "7805                        False        False    True  False      True   \n",
       "7806                        False        False   False  False     False   \n",
       "7807                        False        False   False  False      True   \n",
       "7808                        False        False   False  False      True   \n",
       "7809                        False        False   False  False     False   \n",
       "\n",
       "Ingredients  zwieback crumbs  \n",
       "0                      False  \n",
       "1                      False  \n",
       "2                      False  \n",
       "3                      False  \n",
       "4                      False  \n",
       "...                      ...  \n",
       "7805                   False  \n",
       "7806                   False  \n",
       "7807                   False  \n",
       "7808                   False  \n",
       "7809                   False  \n",
       "\n",
       "[7810 rows x 1615 columns]"
      ]
     },
     "execution_count": 211,
     "metadata": {},
     "output_type": "execute_result"
    }
   ],
   "source": [
    "df_boolean = df_pivot.astype(bool)\n",
    "df_encoded = pd.get_dummies(df_boolean.drop(['Title','index'], axis=1))\n",
    "df_encoded"
   ]
  },
  {
   "cell_type": "code",
   "execution_count": 212,
   "id": "b7f371cc-88eb-4f16-bc93-86e1d828ee0c",
   "metadata": {},
   "outputs": [],
   "source": [
    "columns_to_exclude = ['salt','sugar','water', 'vegetable oil']\n",
    "filtered_columns = [col for col in df_encoded.columns if col not in columns_to_exclude]\n",
    "df_encoded = df_encoded[filtered_columns]"
   ]
  },
  {
   "cell_type": "markdown",
   "id": "fda9378c-4ecb-4436-9d3e-fe7b54b1ce45",
   "metadata": {},
   "source": [
    "## Apriori "
   ]
  },
  {
   "cell_type": "code",
   "execution_count": 213,
   "id": "84a86874-8bf1-4a8a-bc4a-630e996d7dd7",
   "metadata": {},
   "outputs": [
    {
     "data": {
      "text/plain": [
       "298"
      ]
     },
     "execution_count": 213,
     "metadata": {},
     "output_type": "execute_result"
    }
   ],
   "source": [
    "from mlxtend.frequent_patterns import apriori, association_rules\n",
    "\n",
    "frequent_itemsets = apriori(df_encoded, min_support=0.02, use_colnames=True)\n",
    "len(frequent_itemsets)"
   ]
  },
  {
   "cell_type": "code",
   "execution_count": 227,
   "id": "2f732315",
   "metadata": {},
   "outputs": [
    {
     "data": {
      "text/html": [
       "<div>\n",
       "<style scoped>\n",
       "    .dataframe tbody tr th:only-of-type {\n",
       "        vertical-align: middle;\n",
       "    }\n",
       "\n",
       "    .dataframe tbody tr th {\n",
       "        vertical-align: top;\n",
       "    }\n",
       "\n",
       "    .dataframe thead th {\n",
       "        text-align: right;\n",
       "    }\n",
       "</style>\n",
       "<table border=\"1\" class=\"dataframe\">\n",
       "  <thead>\n",
       "    <tr style=\"text-align: right;\">\n",
       "      <th></th>\n",
       "      <th>antecedents</th>\n",
       "      <th>consequents</th>\n",
       "      <th>antecedent support</th>\n",
       "      <th>consequent support</th>\n",
       "      <th>support</th>\n",
       "      <th>confidence</th>\n",
       "      <th>lift</th>\n",
       "      <th>leverage</th>\n",
       "      <th>conviction</th>\n",
       "      <th>zhangs_metric</th>\n",
       "    </tr>\n",
       "  </thead>\n",
       "  <tbody>\n",
       "    <tr>\n",
       "      <th>0</th>\n",
       "      <td>(Parmesan cheese)</td>\n",
       "      <td>(black pepper)</td>\n",
       "      <td>0.055186</td>\n",
       "      <td>0.228809</td>\n",
       "      <td>0.022791</td>\n",
       "      <td>0.412993</td>\n",
       "      <td>1.804967</td>\n",
       "      <td>0.010164</td>\n",
       "      <td>1.313768</td>\n",
       "      <td>0.472022</td>\n",
       "    </tr>\n",
       "    <tr>\n",
       "      <th>1</th>\n",
       "      <td>(Parmesan cheese)</td>\n",
       "      <td>(garlic)</td>\n",
       "      <td>0.055186</td>\n",
       "      <td>0.285019</td>\n",
       "      <td>0.027785</td>\n",
       "      <td>0.503480</td>\n",
       "      <td>1.766478</td>\n",
       "      <td>0.012056</td>\n",
       "      <td>1.439985</td>\n",
       "      <td>0.459246</td>\n",
       "    </tr>\n",
       "    <tr>\n",
       "      <th>2</th>\n",
       "      <td>(Parmesan cheese)</td>\n",
       "      <td>(olive oil)</td>\n",
       "      <td>0.055186</td>\n",
       "      <td>0.137260</td>\n",
       "      <td>0.020230</td>\n",
       "      <td>0.366589</td>\n",
       "      <td>2.670767</td>\n",
       "      <td>0.012656</td>\n",
       "      <td>1.362055</td>\n",
       "      <td>0.662115</td>\n",
       "    </tr>\n",
       "    <tr>\n",
       "      <th>3</th>\n",
       "      <td>(allpurpose flour)</td>\n",
       "      <td>(baking powder)</td>\n",
       "      <td>0.223047</td>\n",
       "      <td>0.118438</td>\n",
       "      <td>0.087708</td>\n",
       "      <td>0.393226</td>\n",
       "      <td>3.320104</td>\n",
       "      <td>0.061291</td>\n",
       "      <td>1.452868</td>\n",
       "      <td>0.899417</td>\n",
       "    </tr>\n",
       "    <tr>\n",
       "      <th>4</th>\n",
       "      <td>(baking powder)</td>\n",
       "      <td>(allpurpose flour)</td>\n",
       "      <td>0.118438</td>\n",
       "      <td>0.223047</td>\n",
       "      <td>0.087708</td>\n",
       "      <td>0.740541</td>\n",
       "      <td>3.320104</td>\n",
       "      <td>0.061291</td>\n",
       "      <td>2.994505</td>\n",
       "      <td>0.792689</td>\n",
       "    </tr>\n",
       "    <tr>\n",
       "      <th>...</th>\n",
       "      <td>...</td>\n",
       "      <td>...</td>\n",
       "      <td>...</td>\n",
       "      <td>...</td>\n",
       "      <td>...</td>\n",
       "      <td>...</td>\n",
       "      <td>...</td>\n",
       "      <td>...</td>\n",
       "      <td>...</td>\n",
       "      <td>...</td>\n",
       "    </tr>\n",
       "    <tr>\n",
       "      <th>449</th>\n",
       "      <td>(allpurpose flour, vanilla bean)</td>\n",
       "      <td>(butter, eggs)</td>\n",
       "      <td>0.065045</td>\n",
       "      <td>0.091805</td>\n",
       "      <td>0.026761</td>\n",
       "      <td>0.411417</td>\n",
       "      <td>4.481408</td>\n",
       "      <td>0.020789</td>\n",
       "      <td>1.543020</td>\n",
       "      <td>0.830902</td>\n",
       "    </tr>\n",
       "    <tr>\n",
       "      <th>450</th>\n",
       "      <td>(butter, eggs)</td>\n",
       "      <td>(allpurpose flour, vanilla bean)</td>\n",
       "      <td>0.091805</td>\n",
       "      <td>0.065045</td>\n",
       "      <td>0.026761</td>\n",
       "      <td>0.291492</td>\n",
       "      <td>4.481408</td>\n",
       "      <td>0.020789</td>\n",
       "      <td>1.319612</td>\n",
       "      <td>0.855385</td>\n",
       "    </tr>\n",
       "    <tr>\n",
       "      <th>451</th>\n",
       "      <td>(butter, vanilla bean)</td>\n",
       "      <td>(allpurpose flour, eggs)</td>\n",
       "      <td>0.046223</td>\n",
       "      <td>0.133547</td>\n",
       "      <td>0.026761</td>\n",
       "      <td>0.578947</td>\n",
       "      <td>4.335167</td>\n",
       "      <td>0.020588</td>\n",
       "      <td>2.057827</td>\n",
       "      <td>0.806612</td>\n",
       "    </tr>\n",
       "    <tr>\n",
       "      <th>452</th>\n",
       "      <td>(eggs, vanilla bean)</td>\n",
       "      <td>(allpurpose flour, butter)</td>\n",
       "      <td>0.079129</td>\n",
       "      <td>0.092446</td>\n",
       "      <td>0.026761</td>\n",
       "      <td>0.338188</td>\n",
       "      <td>3.658235</td>\n",
       "      <td>0.019445</td>\n",
       "      <td>1.371317</td>\n",
       "      <td>0.789084</td>\n",
       "    </tr>\n",
       "    <tr>\n",
       "      <th>453</th>\n",
       "      <td>(vanilla bean)</td>\n",
       "      <td>(allpurpose flour, butter, eggs)</td>\n",
       "      <td>0.120359</td>\n",
       "      <td>0.059283</td>\n",
       "      <td>0.026761</td>\n",
       "      <td>0.222340</td>\n",
       "      <td>3.750494</td>\n",
       "      <td>0.019625</td>\n",
       "      <td>1.209677</td>\n",
       "      <td>0.833713</td>\n",
       "    </tr>\n",
       "  </tbody>\n",
       "</table>\n",
       "<p>454 rows × 10 columns</p>\n",
       "</div>"
      ],
      "text/plain": [
       "                          antecedents                       consequents  \\\n",
       "0                   (Parmesan cheese)                    (black pepper)   \n",
       "1                   (Parmesan cheese)                          (garlic)   \n",
       "2                   (Parmesan cheese)                       (olive oil)   \n",
       "3                  (allpurpose flour)                   (baking powder)   \n",
       "4                     (baking powder)                (allpurpose flour)   \n",
       "..                                ...                               ...   \n",
       "449  (allpurpose flour, vanilla bean)                    (butter, eggs)   \n",
       "450                    (butter, eggs)  (allpurpose flour, vanilla bean)   \n",
       "451            (butter, vanilla bean)          (allpurpose flour, eggs)   \n",
       "452              (eggs, vanilla bean)        (allpurpose flour, butter)   \n",
       "453                    (vanilla bean)  (allpurpose flour, butter, eggs)   \n",
       "\n",
       "     antecedent support  consequent support   support  confidence      lift  \\\n",
       "0              0.055186            0.228809  0.022791    0.412993  1.804967   \n",
       "1              0.055186            0.285019  0.027785    0.503480  1.766478   \n",
       "2              0.055186            0.137260  0.020230    0.366589  2.670767   \n",
       "3              0.223047            0.118438  0.087708    0.393226  3.320104   \n",
       "4              0.118438            0.223047  0.087708    0.740541  3.320104   \n",
       "..                  ...                 ...       ...         ...       ...   \n",
       "449            0.065045            0.091805  0.026761    0.411417  4.481408   \n",
       "450            0.091805            0.065045  0.026761    0.291492  4.481408   \n",
       "451            0.046223            0.133547  0.026761    0.578947  4.335167   \n",
       "452            0.079129            0.092446  0.026761    0.338188  3.658235   \n",
       "453            0.120359            0.059283  0.026761    0.222340  3.750494   \n",
       "\n",
       "     leverage  conviction  zhangs_metric  \n",
       "0    0.010164    1.313768       0.472022  \n",
       "1    0.012056    1.439985       0.459246  \n",
       "2    0.012656    1.362055       0.662115  \n",
       "3    0.061291    1.452868       0.899417  \n",
       "4    0.061291    2.994505       0.792689  \n",
       "..        ...         ...            ...  \n",
       "449  0.020789    1.543020       0.830902  \n",
       "450  0.020789    1.319612       0.855385  \n",
       "451  0.020588    2.057827       0.806612  \n",
       "452  0.019445    1.371317       0.789084  \n",
       "453  0.019625    1.209677       0.833713  \n",
       "\n",
       "[454 rows x 10 columns]"
      ]
     },
     "execution_count": 227,
     "metadata": {},
     "output_type": "execute_result"
    }
   ],
   "source": [
    "rules = association_rules(frequent_itemsets, metric='confidence', min_threshold=0.2)\n",
    "rules"
   ]
  },
  {
   "cell_type": "code",
   "execution_count": 223,
   "id": "766c2041",
   "metadata": {},
   "outputs": [
    {
     "name": "stdout",
     "output_type": "stream",
     "text": [
      "Recommended Ingredients: ['ginger', 'onions']\n"
     ]
    }
   ],
   "source": [
    "import numpy as np\n",
    "\n",
    "def recommend_recipes(ingredients, rules):\n",
    "    relevant_rules = rules[rules['antecedents'].apply(lambda x: set(ingredients).issubset(set(x)))]\n",
    "    relevant_rules = relevant_rules.sort_values(by='confidence', ascending=False)\n",
    "\n",
    "    #print(len(relevant_rules['consequents']))\n",
    "    top_rules = relevant_rules.iloc[0:3]\n",
    "    recommended_ingredients = list(top_rules['consequents'])\n",
    "\n",
    "    unique_ingredients = set()\n",
    "    for item in recommended_ingredients:\n",
    "        unique_ingredients.update(item)\n",
    "    \n",
    "    return list(unique_ingredients)\n",
    "\n",
    "\n",
    "user_input_ingredients = ['garlic','tomatoes']\n",
    "\n",
    "recommended_ingredients = []\n",
    "for ing in user_input_ingredients:\n",
    "    rins = recommend_recipes([ing], rules)\n",
    "    for i in rins:\n",
    "        if(i not in recommended_ingredients and i not in user_input_ingredients):\n",
    "            recommended_ingredients.append(i)\n",
    "\n",
    "print('Recommended Ingredients:', recommended_ingredients)"
   ]
  },
  {
   "cell_type": "code",
   "execution_count": 224,
   "id": "bacfbd82-ccb8-426d-945a-30c8c67bdbac",
   "metadata": {},
   "outputs": [
    {
     "name": "stdout",
     "output_type": "stream",
     "text": [
      "['ginger', 'onions']\n"
     ]
    },
    {
     "data": {
      "text/plain": [
       "[['garlic', 'tomatoes'],\n",
       " ['garlic', 'tomatoes', 'ginger'],\n",
       " ['garlic', 'tomatoes', 'onions'],\n",
       " ['garlic', 'tomatoes', 'ginger', 'onions']]"
      ]
     },
     "execution_count": 224,
     "metadata": {},
     "output_type": "execute_result"
    }
   ],
   "source": [
    "from itertools import combinations\n",
    "\n",
    "combs = []\n",
    "print(recommended_ingredients)\n",
    "for j in range(1, len(recommended_ingredients) + 1):\n",
    "    combs.extend(list(combinations(recommended_ingredients, j)))\n",
    "\n",
    "recoms = [user_input_ingredients]\n",
    "for i in combs:\n",
    "    recoms.append(user_input_ingredients + list(i))\n",
    "\n",
    "recoms"
   ]
  },
  {
   "cell_type": "code",
   "execution_count": 225,
   "id": "84d9874d-2411-423d-b1e4-67090e578074",
   "metadata": {},
   "outputs": [
    {
     "data": {
      "text/html": [
       "<div>\n",
       "<style scoped>\n",
       "    .dataframe tbody tr th:only-of-type {\n",
       "        vertical-align: middle;\n",
       "    }\n",
       "\n",
       "    .dataframe tbody tr th {\n",
       "        vertical-align: top;\n",
       "    }\n",
       "\n",
       "    .dataframe thead th {\n",
       "        text-align: right;\n",
       "    }\n",
       "</style>\n",
       "<table border=\"1\" class=\"dataframe\">\n",
       "  <thead>\n",
       "    <tr style=\"text-align: right;\">\n",
       "      <th></th>\n",
       "      <th>Title</th>\n",
       "      <th>Ingredients</th>\n",
       "      <th>Type</th>\n",
       "    </tr>\n",
       "  </thead>\n",
       "  <tbody>\n",
       "    <tr>\n",
       "      <th>0</th>\n",
       "      <td>Quinoa Stuffed Bell Peppers</td>\n",
       "      <td>[black olives, quinoa, spaghetti sauce, beans,...</td>\n",
       "      <td>Diabetic</td>\n",
       "    </tr>\n",
       "    <tr>\n",
       "      <th>1</th>\n",
       "      <td>Bulgur Wheat and Vegetables</td>\n",
       "      <td>[cracked wheat bulgur, green bell peppers, zuc...</td>\n",
       "      <td>Diabetic</td>\n",
       "    </tr>\n",
       "    <tr>\n",
       "      <th>2</th>\n",
       "      <td>Chicken and Broccoli Skillet</td>\n",
       "      <td>[chicken, broccoli slaw, lemon pepper, garlic,...</td>\n",
       "      <td>Diabetic</td>\n",
       "    </tr>\n",
       "    <tr>\n",
       "      <th>3</th>\n",
       "      <td>Quick Chicken Cacciatore</td>\n",
       "      <td>[chicken, green bell peppers, oregano, cornsta...</td>\n",
       "      <td>Diabetic</td>\n",
       "    </tr>\n",
       "    <tr>\n",
       "      <th>4</th>\n",
       "      <td>Spaghetti Squash Casserole</td>\n",
       "      <td>[garlic, olive oil, tomatoes, green onions, mo...</td>\n",
       "      <td>Diabetic</td>\n",
       "    </tr>\n",
       "    <tr>\n",
       "      <th>...</th>\n",
       "      <td>...</td>\n",
       "      <td>...</td>\n",
       "      <td>...</td>\n",
       "    </tr>\n",
       "    <tr>\n",
       "      <th>1256</th>\n",
       "      <td>Apple-Lovage Chutney</td>\n",
       "      <td>[red wine vinegar, lovage, apples, sugar, swee...</td>\n",
       "      <td>Side Dish</td>\n",
       "    </tr>\n",
       "    <tr>\n",
       "      <th>1257</th>\n",
       "      <td>Exotic Spiced Pea Pilaf</td>\n",
       "      <td>[garlic, tomatoes, cinnamon, ginger, yogurt, c...</td>\n",
       "      <td>Side Dish</td>\n",
       "    </tr>\n",
       "    <tr>\n",
       "      <th>1258</th>\n",
       "      <td>Channa Masala</td>\n",
       "      <td>[corander, cumin seeds, lemon, chile pepper, g...</td>\n",
       "      <td>Side Dish</td>\n",
       "    </tr>\n",
       "    <tr>\n",
       "      <th>1259</th>\n",
       "      <td>Goan Ginger-Scented Tomato and Cabbage Soup</td>\n",
       "      <td>[stock, carrots, ti leaves, olive oil, garlic,...</td>\n",
       "      <td>Appetizers</td>\n",
       "    </tr>\n",
       "    <tr>\n",
       "      <th>1260</th>\n",
       "      <td>Momo Sauce</td>\n",
       "      <td>[salt, ghee clarified butter, garlic, tomatoes...</td>\n",
       "      <td>Appetizers</td>\n",
       "    </tr>\n",
       "  </tbody>\n",
       "</table>\n",
       "<p>1261 rows × 3 columns</p>\n",
       "</div>"
      ],
      "text/plain": [
       "                                            Title  \\\n",
       "0                     Quinoa Stuffed Bell Peppers   \n",
       "1                     Bulgur Wheat and Vegetables   \n",
       "2                    Chicken and Broccoli Skillet   \n",
       "3                        Quick Chicken Cacciatore   \n",
       "4                      Spaghetti Squash Casserole   \n",
       "...                                           ...   \n",
       "1256                         Apple-Lovage Chutney   \n",
       "1257                      Exotic Spiced Pea Pilaf   \n",
       "1258                                Channa Masala   \n",
       "1259  Goan Ginger-Scented Tomato and Cabbage Soup   \n",
       "1260                                   Momo Sauce   \n",
       "\n",
       "                                            Ingredients        Type  \n",
       "0     [black olives, quinoa, spaghetti sauce, beans,...    Diabetic  \n",
       "1     [cracked wheat bulgur, green bell peppers, zuc...    Diabetic  \n",
       "2     [chicken, broccoli slaw, lemon pepper, garlic,...    Diabetic  \n",
       "3     [chicken, green bell peppers, oregano, cornsta...    Diabetic  \n",
       "4     [garlic, olive oil, tomatoes, green onions, mo...    Diabetic  \n",
       "...                                                 ...         ...  \n",
       "1256  [red wine vinegar, lovage, apples, sugar, swee...   Side Dish  \n",
       "1257  [garlic, tomatoes, cinnamon, ginger, yogurt, c...   Side Dish  \n",
       "1258  [corander, cumin seeds, lemon, chile pepper, g...   Side Dish  \n",
       "1259  [stock, carrots, ti leaves, olive oil, garlic,...  Appetizers  \n",
       "1260  [salt, ghee clarified butter, garlic, tomatoes...  Appetizers  \n",
       "\n",
       "[1261 rows x 3 columns]"
      ]
     },
     "execution_count": 225,
     "metadata": {},
     "output_type": "execute_result"
    }
   ],
   "source": [
    "recommended_recipes = pd.DataFrame()\n",
    "for rc in recoms:\n",
    "    recommended_recipes = pd.concat([recommended_recipes, df[df['Ingredients'].apply(lambda x: all(ingredient in x for ingredient in rc))]])\n",
    "\n",
    "\n",
    "recommended_recipes= recommended_recipes.reset_index(drop=True)\n",
    "recommended_recipes"
   ]
  },
  {
   "cell_type": "code",
   "execution_count": 104,
   "id": "2bd3bd68-23eb-496a-9ae2-469c8c67d7d7",
   "metadata": {},
   "outputs": [
    {
     "data": {
      "text/plain": [
       "array(['Africa & Middle East', 'American', 'Appetizers', 'Asian',\n",
       "       'Breakfast and Brunch', 'Diabetic', 'European', 'Gluten-Free',\n",
       "       'Indian', 'Low-Carb', 'Low-Fat', 'Main Dish', 'Mexican',\n",
       "       'Side Dish', 'Standard'], dtype=object)"
      ]
     },
     "execution_count": 104,
     "metadata": {},
     "output_type": "execute_result"
    }
   ],
   "source": [
    "np.unique(recommended_recipes.Type)"
   ]
  },
  {
   "cell_type": "code",
   "execution_count": 105,
   "id": "50b56f68-85da-47c7-9181-ae7eb81215c2",
   "metadata": {},
   "outputs": [
    {
     "data": {
      "text/plain": [
       "['garlic', 'tomatoes', 'ginger', 'onions']"
      ]
     },
     "execution_count": 105,
     "metadata": {},
     "output_type": "execute_result"
    }
   ],
   "source": [
    "Ings = user_input_ingredients + recommended_ingredients\n",
    "Ings"
   ]
  },
  {
   "cell_type": "code",
   "execution_count": 114,
   "id": "d18b6d3d-a48b-45cb-863d-8bd13c189612",
   "metadata": {},
   "outputs": [],
   "source": [
    "import pickle\n",
    "\n",
    "with open('sgd_classifier_Cuisines.pkl', 'rb') as model_file:\n",
    "     sgd_classifier_Cuisines = pickle.load(model_file)\n",
    "\n",
    "with open('sgd_classifier_Course.pkl', 'rb') as model_file:\n",
    "     sgd_classifier_Course = pickle.load(model_file)\n",
    "\n",
    "with open('sgd_classifier_Dietary.pkl', 'rb') as model_file:\n",
    "     sgd_classifier_Dietary = pickle.load(model_file)"
   ]
  },
  {
   "cell_type": "code",
   "execution_count": 197,
   "id": "a1488514-25b9-484e-b647-d3eb04e9fc33",
   "metadata": {},
   "outputs": [],
   "source": [
    "Ings_str = ' '.join(Ings)\n",
    "classes =[]"
   ]
  },
  {
   "cell_type": "code",
   "execution_count": 198,
   "id": "0f7098c7-93dc-49a8-a79e-08b0463db79a",
   "metadata": {},
   "outputs": [
    {
     "name": "stderr",
     "output_type": "stream",
     "text": [
      "/Users/harishneelam/anaconda3/lib/python3.11/site-packages/sklearn/base.py:465: UserWarning:\n",
      "\n",
      "X does not have valid feature names, but SGDClassifier was fitted with feature names\n",
      "\n"
     ]
    },
    {
     "data": {
      "text/plain": [
       "array(['Asian', 'Indian'], dtype='<U20')"
      ]
     },
     "execution_count": 198,
     "metadata": {},
     "output_type": "execute_result"
    }
   ],
   "source": [
    "from sklearn.feature_extraction.text import TfidfVectorizer\n",
    "\n",
    "df = pd.read_pickle('Recipes_data_Cuisines_Sim_Ingrs.pkl')\n",
    "df['Ingredients'] = df['Ingredients'].apply(lambda x: ' '.join(x))\n",
    "df = df.sample(frac=1, random_state=42).reset_index(drop=True)\n",
    "tfidf_vectorizer = TfidfVectorizer()\n",
    "tfidf_matrix = tfidf_vectorizer.fit_transform(df['Ingredients'])\n",
    "tfidf_df = pd.DataFrame(tfidf_matrix.toarray(), columns=tfidf_vectorizer.get_feature_names_out())\n",
    "Ings_str = ' '.join(Ings)\n",
    "\n",
    "tfidf_features = tfidf_vectorizer.transform([Ings_str])\n",
    "\n",
    "class_probabilities = sgd_classifier_Cuisines.predict_proba(tfidf_features)\n",
    "\n",
    "top_indices = [i for i, prob in enumerate(class_probabilities[0]) if prob > 0.25]\n",
    "\n",
    "# Get the corresponding class labels\n",
    "top_classes = sgd_classifier_Cuisines.classes_[top_indices]\n",
    "\n",
    "if len(top_classes)==0:\n",
    "    top_indices = class_probabilities.argsort()[0][-1:][::-1]\n",
    "    top_classes = sgd_classifier_Cuisines.classes_[top_indices]\n",
    "\n",
    "classes.extend(top_classes)\n",
    "top_classes"
   ]
  },
  {
   "cell_type": "code",
   "execution_count": 199,
   "id": "524384b5-cce6-4a5b-b6a3-7c41006a8930",
   "metadata": {},
   "outputs": [
    {
     "name": "stderr",
     "output_type": "stream",
     "text": [
      "/Users/harishneelam/anaconda3/lib/python3.11/site-packages/sklearn/base.py:465: UserWarning:\n",
      "\n",
      "X does not have valid feature names, but SGDClassifier was fitted with feature names\n",
      "\n"
     ]
    },
    {
     "data": {
      "text/plain": [
       "array(['Gluten-Free', 'Low-Fat'], dtype='<U11')"
      ]
     },
     "execution_count": 199,
     "metadata": {},
     "output_type": "execute_result"
    }
   ],
   "source": [
    "from sklearn.feature_extraction.text import TfidfVectorizer\n",
    "\n",
    "df = pd.read_pickle('Recipes_data_Dietary_Sim_Ingrs.pkl')\n",
    "df['Ingredients'] = df['Ingredients'].apply(lambda x: ' '.join(x))\n",
    "df = df.sample(frac=1, random_state=42).reset_index(drop=True)\n",
    "tfidf_vectorizer = TfidfVectorizer()\n",
    "tfidf_matrix = tfidf_vectorizer.fit_transform(df['Ingredients'])\n",
    "tfidf_df = pd.DataFrame(tfidf_matrix.toarray(), columns=tfidf_vectorizer.get_feature_names_out())\n",
    "Ings_str = ' '.join(Ings)\n",
    "\n",
    "tfidf_features = tfidf_vectorizer.transform([Ings_str])\n",
    "\n",
    "class_probabilities = sgd_classifier_Dietary.predict_proba(tfidf_features)\n",
    "\n",
    "top_indices = [i for i, prob in enumerate(class_probabilities[0]) if prob > 0.25]\n",
    "\n",
    "# Get the corresponding class labels\n",
    "top_classes = sgd_classifier_Dietary.classes_[top_indices]\n",
    "\n",
    "if len(top_classes)==0:\n",
    "    top_indices = class_probabilities.argsort()[0][-1:][::-1]\n",
    "    top_classes = sgd_classifier_Dietary.classes_[top_indices]\n",
    "\n",
    "classes.extend(top_classes)\n",
    "top_classes"
   ]
  },
  {
   "cell_type": "code",
   "execution_count": 200,
   "id": "6c161d2a-4d2e-4c50-9083-ac13a7152ec5",
   "metadata": {},
   "outputs": [
    {
     "name": "stderr",
     "output_type": "stream",
     "text": [
      "/Users/harishneelam/anaconda3/lib/python3.11/site-packages/sklearn/base.py:465: UserWarning:\n",
      "\n",
      "X does not have valid feature names, but SGDClassifier was fitted with feature names\n",
      "\n"
     ]
    },
    {
     "data": {
      "text/plain": [
       "array(['Main Dish', 'Side Dish'], dtype='<U20')"
      ]
     },
     "execution_count": 200,
     "metadata": {},
     "output_type": "execute_result"
    }
   ],
   "source": [
    "from sklearn.feature_extraction.text import TfidfVectorizer\n",
    "\n",
    "df = pd.read_pickle('Recipes_data_Course_Sim_Ingrs.pkl')\n",
    "df['Ingredients'] = df['Ingredients'].apply(lambda x: ' '.join(x))\n",
    "df = df.sample(frac=1, random_state=42).reset_index(drop=True)\n",
    "tfidf_vectorizer = TfidfVectorizer()\n",
    "tfidf_matrix = tfidf_vectorizer.fit_transform(df['Ingredients'])\n",
    "tfidf_df = pd.DataFrame(tfidf_matrix.toarray(), columns=tfidf_vectorizer.get_feature_names_out())\n",
    "Ings_str = ' '.join(Ings)\n",
    "\n",
    "tfidf_features = tfidf_vectorizer.transform([Ings_str])\n",
    "\n",
    "class_probabilities = sgd_classifier_Course.predict_proba(tfidf_features)\n",
    "\n",
    "top_indices = [i for i, prob in enumerate(class_probabilities[0]) if prob > 0.25]\n",
    "\n",
    "# Get the corresponding class labels\n",
    "top_classes = sgd_classifier_Course.classes_[top_indices]\n",
    "\n",
    "if len(top_classes)==0:\n",
    "    top_indices = class_probabilities.argsort()[0][-1:][::-1]\n",
    "    top_classes = sgd_classifier_Course.classes_[top_indices]\n",
    "\n",
    "classes.extend(top_classes)\n",
    "top_classes"
   ]
  },
  {
   "cell_type": "code",
   "execution_count": 201,
   "id": "2b524cd1-5fbe-485f-be94-684d3c4661bd",
   "metadata": {},
   "outputs": [
    {
     "data": {
      "text/plain": [
       "['Asian', 'Indian', 'Gluten-Free', 'Low-Fat', 'Main Dish', 'Side Dish']"
      ]
     },
     "execution_count": 201,
     "metadata": {},
     "output_type": "execute_result"
    }
   ],
   "source": [
    "classes"
   ]
  },
  {
   "cell_type": "code",
   "execution_count": 202,
   "id": "b87ffbb2-eb10-4f0e-9cc6-00a2a64bbe2d",
   "metadata": {},
   "outputs": [],
   "source": [
    "recommended_recipes = recommended_recipes[recommended_recipes['Type'].isin(classes)].reset_index(drop=True)"
   ]
  },
  {
   "cell_type": "code",
   "execution_count": 203,
   "id": "436a99cd-6fae-456a-8c63-773eda39f92c",
   "metadata": {},
   "outputs": [
    {
     "data": {
      "text/plain": [
       "Index(['Indian', 'Main Dish', 'Side Dish', 'Low-Fat', 'Gluten-Free', 'Asian'], dtype='object', name='Type')"
      ]
     },
     "execution_count": 203,
     "metadata": {},
     "output_type": "execute_result"
    }
   ],
   "source": [
    "kd = pd.DataFrame(recommended_recipes['Type'].value_counts())\n",
    "kd.index"
   ]
  },
  {
   "cell_type": "code",
   "execution_count": 228,
   "id": "76201c6d-9015-4c95-90a4-edc2b834450f",
   "metadata": {
    "scrolled": true
   },
   "outputs": [
    {
     "name": "stderr",
     "output_type": "stream",
     "text": [
      "/Users/harishneelam/anaconda3/lib/python3.11/site-packages/plotly/io/_renderers.py:395: DeprecationWarning:\n",
      "\n",
      "distutils Version classes are deprecated. Use packaging.version instead.\n",
      "\n",
      "/Users/harishneelam/anaconda3/lib/python3.11/site-packages/plotly/io/_renderers.py:395: DeprecationWarning:\n",
      "\n",
      "distutils Version classes are deprecated. Use packaging.version instead.\n",
      "\n"
     ]
    },
    {
     "data": {
      "application/vnd.plotly.v1+json": {
       "config": {
        "plotlyServerURL": "https://plot.ly"
       },
       "data": [
        {
         "domain": {
          "x": [
           0,
           1
          ],
          "y": [
           0,
           1
          ]
         },
         "hole": 0.3,
         "hovertemplate": "Type=%{label}<br>count=%{value}<extra></extra>",
         "labels": [
          "Mexican",
          "Main Dish",
          "Indian",
          "European",
          "Side Dish",
          "Africa & Middle East",
          "Appetizers",
          "Low-Fat",
          "Standard",
          "Gluten-Free",
          "Low-Carb",
          "Asian",
          "Diabetic",
          "American",
          "Breakfast and Brunch"
         ],
         "legendgroup": "",
         "name": "",
         "showlegend": true,
         "textinfo": "percent+label",
         "type": "pie",
         "values": [
          238,
          228,
          219,
          115,
          97,
          65,
          65,
          64,
          47,
          44,
          19,
          19,
          17,
          17,
          7
         ]
        }
       ],
       "layout": {
        "height": 600,
        "legend": {
         "tracegroupgap": 0
        },
        "piecolorway": [
         "rgb(103,0,31)",
         "rgb(178,24,43)",
         "rgb(214,96,77)",
         "rgb(244,165,130)",
         "rgb(253,219,199)",
         "rgb(247,247,247)",
         "rgb(209,229,240)",
         "rgb(146,197,222)",
         "rgb(67,147,195)",
         "rgb(33,102,172)",
         "rgb(5,48,97)"
        ],
        "showlegend": false,
        "template": {
         "data": {
          "bar": [
           {
            "error_x": {
             "color": "#2a3f5f"
            },
            "error_y": {
             "color": "#2a3f5f"
            },
            "marker": {
             "line": {
              "color": "#E5ECF6",
              "width": 0.5
             },
             "pattern": {
              "fillmode": "overlay",
              "size": 10,
              "solidity": 0.2
             }
            },
            "type": "bar"
           }
          ],
          "barpolar": [
           {
            "marker": {
             "line": {
              "color": "#E5ECF6",
              "width": 0.5
             },
             "pattern": {
              "fillmode": "overlay",
              "size": 10,
              "solidity": 0.2
             }
            },
            "type": "barpolar"
           }
          ],
          "carpet": [
           {
            "aaxis": {
             "endlinecolor": "#2a3f5f",
             "gridcolor": "white",
             "linecolor": "white",
             "minorgridcolor": "white",
             "startlinecolor": "#2a3f5f"
            },
            "baxis": {
             "endlinecolor": "#2a3f5f",
             "gridcolor": "white",
             "linecolor": "white",
             "minorgridcolor": "white",
             "startlinecolor": "#2a3f5f"
            },
            "type": "carpet"
           }
          ],
          "choropleth": [
           {
            "colorbar": {
             "outlinewidth": 0,
             "ticks": ""
            },
            "type": "choropleth"
           }
          ],
          "contour": [
           {
            "colorbar": {
             "outlinewidth": 0,
             "ticks": ""
            },
            "colorscale": [
             [
              0,
              "#0d0887"
             ],
             [
              0.1111111111111111,
              "#46039f"
             ],
             [
              0.2222222222222222,
              "#7201a8"
             ],
             [
              0.3333333333333333,
              "#9c179e"
             ],
             [
              0.4444444444444444,
              "#bd3786"
             ],
             [
              0.5555555555555556,
              "#d8576b"
             ],
             [
              0.6666666666666666,
              "#ed7953"
             ],
             [
              0.7777777777777778,
              "#fb9f3a"
             ],
             [
              0.8888888888888888,
              "#fdca26"
             ],
             [
              1,
              "#f0f921"
             ]
            ],
            "type": "contour"
           }
          ],
          "contourcarpet": [
           {
            "colorbar": {
             "outlinewidth": 0,
             "ticks": ""
            },
            "type": "contourcarpet"
           }
          ],
          "heatmap": [
           {
            "colorbar": {
             "outlinewidth": 0,
             "ticks": ""
            },
            "colorscale": [
             [
              0,
              "#0d0887"
             ],
             [
              0.1111111111111111,
              "#46039f"
             ],
             [
              0.2222222222222222,
              "#7201a8"
             ],
             [
              0.3333333333333333,
              "#9c179e"
             ],
             [
              0.4444444444444444,
              "#bd3786"
             ],
             [
              0.5555555555555556,
              "#d8576b"
             ],
             [
              0.6666666666666666,
              "#ed7953"
             ],
             [
              0.7777777777777778,
              "#fb9f3a"
             ],
             [
              0.8888888888888888,
              "#fdca26"
             ],
             [
              1,
              "#f0f921"
             ]
            ],
            "type": "heatmap"
           }
          ],
          "heatmapgl": [
           {
            "colorbar": {
             "outlinewidth": 0,
             "ticks": ""
            },
            "colorscale": [
             [
              0,
              "#0d0887"
             ],
             [
              0.1111111111111111,
              "#46039f"
             ],
             [
              0.2222222222222222,
              "#7201a8"
             ],
             [
              0.3333333333333333,
              "#9c179e"
             ],
             [
              0.4444444444444444,
              "#bd3786"
             ],
             [
              0.5555555555555556,
              "#d8576b"
             ],
             [
              0.6666666666666666,
              "#ed7953"
             ],
             [
              0.7777777777777778,
              "#fb9f3a"
             ],
             [
              0.8888888888888888,
              "#fdca26"
             ],
             [
              1,
              "#f0f921"
             ]
            ],
            "type": "heatmapgl"
           }
          ],
          "histogram": [
           {
            "marker": {
             "pattern": {
              "fillmode": "overlay",
              "size": 10,
              "solidity": 0.2
             }
            },
            "type": "histogram"
           }
          ],
          "histogram2d": [
           {
            "colorbar": {
             "outlinewidth": 0,
             "ticks": ""
            },
            "colorscale": [
             [
              0,
              "#0d0887"
             ],
             [
              0.1111111111111111,
              "#46039f"
             ],
             [
              0.2222222222222222,
              "#7201a8"
             ],
             [
              0.3333333333333333,
              "#9c179e"
             ],
             [
              0.4444444444444444,
              "#bd3786"
             ],
             [
              0.5555555555555556,
              "#d8576b"
             ],
             [
              0.6666666666666666,
              "#ed7953"
             ],
             [
              0.7777777777777778,
              "#fb9f3a"
             ],
             [
              0.8888888888888888,
              "#fdca26"
             ],
             [
              1,
              "#f0f921"
             ]
            ],
            "type": "histogram2d"
           }
          ],
          "histogram2dcontour": [
           {
            "colorbar": {
             "outlinewidth": 0,
             "ticks": ""
            },
            "colorscale": [
             [
              0,
              "#0d0887"
             ],
             [
              0.1111111111111111,
              "#46039f"
             ],
             [
              0.2222222222222222,
              "#7201a8"
             ],
             [
              0.3333333333333333,
              "#9c179e"
             ],
             [
              0.4444444444444444,
              "#bd3786"
             ],
             [
              0.5555555555555556,
              "#d8576b"
             ],
             [
              0.6666666666666666,
              "#ed7953"
             ],
             [
              0.7777777777777778,
              "#fb9f3a"
             ],
             [
              0.8888888888888888,
              "#fdca26"
             ],
             [
              1,
              "#f0f921"
             ]
            ],
            "type": "histogram2dcontour"
           }
          ],
          "mesh3d": [
           {
            "colorbar": {
             "outlinewidth": 0,
             "ticks": ""
            },
            "type": "mesh3d"
           }
          ],
          "parcoords": [
           {
            "line": {
             "colorbar": {
              "outlinewidth": 0,
              "ticks": ""
             }
            },
            "type": "parcoords"
           }
          ],
          "pie": [
           {
            "automargin": true,
            "type": "pie"
           }
          ],
          "scatter": [
           {
            "fillpattern": {
             "fillmode": "overlay",
             "size": 10,
             "solidity": 0.2
            },
            "type": "scatter"
           }
          ],
          "scatter3d": [
           {
            "line": {
             "colorbar": {
              "outlinewidth": 0,
              "ticks": ""
             }
            },
            "marker": {
             "colorbar": {
              "outlinewidth": 0,
              "ticks": ""
             }
            },
            "type": "scatter3d"
           }
          ],
          "scattercarpet": [
           {
            "marker": {
             "colorbar": {
              "outlinewidth": 0,
              "ticks": ""
             }
            },
            "type": "scattercarpet"
           }
          ],
          "scattergeo": [
           {
            "marker": {
             "colorbar": {
              "outlinewidth": 0,
              "ticks": ""
             }
            },
            "type": "scattergeo"
           }
          ],
          "scattergl": [
           {
            "marker": {
             "colorbar": {
              "outlinewidth": 0,
              "ticks": ""
             }
            },
            "type": "scattergl"
           }
          ],
          "scattermapbox": [
           {
            "marker": {
             "colorbar": {
              "outlinewidth": 0,
              "ticks": ""
             }
            },
            "type": "scattermapbox"
           }
          ],
          "scatterpolar": [
           {
            "marker": {
             "colorbar": {
              "outlinewidth": 0,
              "ticks": ""
             }
            },
            "type": "scatterpolar"
           }
          ],
          "scatterpolargl": [
           {
            "marker": {
             "colorbar": {
              "outlinewidth": 0,
              "ticks": ""
             }
            },
            "type": "scatterpolargl"
           }
          ],
          "scatterternary": [
           {
            "marker": {
             "colorbar": {
              "outlinewidth": 0,
              "ticks": ""
             }
            },
            "type": "scatterternary"
           }
          ],
          "surface": [
           {
            "colorbar": {
             "outlinewidth": 0,
             "ticks": ""
            },
            "colorscale": [
             [
              0,
              "#0d0887"
             ],
             [
              0.1111111111111111,
              "#46039f"
             ],
             [
              0.2222222222222222,
              "#7201a8"
             ],
             [
              0.3333333333333333,
              "#9c179e"
             ],
             [
              0.4444444444444444,
              "#bd3786"
             ],
             [
              0.5555555555555556,
              "#d8576b"
             ],
             [
              0.6666666666666666,
              "#ed7953"
             ],
             [
              0.7777777777777778,
              "#fb9f3a"
             ],
             [
              0.8888888888888888,
              "#fdca26"
             ],
             [
              1,
              "#f0f921"
             ]
            ],
            "type": "surface"
           }
          ],
          "table": [
           {
            "cells": {
             "fill": {
              "color": "#EBF0F8"
             },
             "line": {
              "color": "white"
             }
            },
            "header": {
             "fill": {
              "color": "#C8D4E3"
             },
             "line": {
              "color": "white"
             }
            },
            "type": "table"
           }
          ]
         },
         "layout": {
          "annotationdefaults": {
           "arrowcolor": "#2a3f5f",
           "arrowhead": 0,
           "arrowwidth": 1
          },
          "autotypenumbers": "strict",
          "coloraxis": {
           "colorbar": {
            "outlinewidth": 0,
            "ticks": ""
           }
          },
          "colorscale": {
           "diverging": [
            [
             0,
             "#8e0152"
            ],
            [
             0.1,
             "#c51b7d"
            ],
            [
             0.2,
             "#de77ae"
            ],
            [
             0.3,
             "#f1b6da"
            ],
            [
             0.4,
             "#fde0ef"
            ],
            [
             0.5,
             "#f7f7f7"
            ],
            [
             0.6,
             "#e6f5d0"
            ],
            [
             0.7,
             "#b8e186"
            ],
            [
             0.8,
             "#7fbc41"
            ],
            [
             0.9,
             "#4d9221"
            ],
            [
             1,
             "#276419"
            ]
           ],
           "sequential": [
            [
             0,
             "#0d0887"
            ],
            [
             0.1111111111111111,
             "#46039f"
            ],
            [
             0.2222222222222222,
             "#7201a8"
            ],
            [
             0.3333333333333333,
             "#9c179e"
            ],
            [
             0.4444444444444444,
             "#bd3786"
            ],
            [
             0.5555555555555556,
             "#d8576b"
            ],
            [
             0.6666666666666666,
             "#ed7953"
            ],
            [
             0.7777777777777778,
             "#fb9f3a"
            ],
            [
             0.8888888888888888,
             "#fdca26"
            ],
            [
             1,
             "#f0f921"
            ]
           ],
           "sequentialminus": [
            [
             0,
             "#0d0887"
            ],
            [
             0.1111111111111111,
             "#46039f"
            ],
            [
             0.2222222222222222,
             "#7201a8"
            ],
            [
             0.3333333333333333,
             "#9c179e"
            ],
            [
             0.4444444444444444,
             "#bd3786"
            ],
            [
             0.5555555555555556,
             "#d8576b"
            ],
            [
             0.6666666666666666,
             "#ed7953"
            ],
            [
             0.7777777777777778,
             "#fb9f3a"
            ],
            [
             0.8888888888888888,
             "#fdca26"
            ],
            [
             1,
             "#f0f921"
            ]
           ]
          },
          "colorway": [
           "#636efa",
           "#EF553B",
           "#00cc96",
           "#ab63fa",
           "#FFA15A",
           "#19d3f3",
           "#FF6692",
           "#B6E880",
           "#FF97FF",
           "#FECB52"
          ],
          "font": {
           "color": "#2a3f5f"
          },
          "geo": {
           "bgcolor": "white",
           "lakecolor": "white",
           "landcolor": "#E5ECF6",
           "showlakes": true,
           "showland": true,
           "subunitcolor": "white"
          },
          "hoverlabel": {
           "align": "left"
          },
          "hovermode": "closest",
          "mapbox": {
           "style": "light"
          },
          "paper_bgcolor": "white",
          "plot_bgcolor": "#E5ECF6",
          "polar": {
           "angularaxis": {
            "gridcolor": "white",
            "linecolor": "white",
            "ticks": ""
           },
           "bgcolor": "#E5ECF6",
           "radialaxis": {
            "gridcolor": "white",
            "linecolor": "white",
            "ticks": ""
           }
          },
          "scene": {
           "xaxis": {
            "backgroundcolor": "#E5ECF6",
            "gridcolor": "white",
            "gridwidth": 2,
            "linecolor": "white",
            "showbackground": true,
            "ticks": "",
            "zerolinecolor": "white"
           },
           "yaxis": {
            "backgroundcolor": "#E5ECF6",
            "gridcolor": "white",
            "gridwidth": 2,
            "linecolor": "white",
            "showbackground": true,
            "ticks": "",
            "zerolinecolor": "white"
           },
           "zaxis": {
            "backgroundcolor": "#E5ECF6",
            "gridcolor": "white",
            "gridwidth": 2,
            "linecolor": "white",
            "showbackground": true,
            "ticks": "",
            "zerolinecolor": "white"
           }
          },
          "shapedefaults": {
           "line": {
            "color": "#2a3f5f"
           }
          },
          "ternary": {
           "aaxis": {
            "gridcolor": "white",
            "linecolor": "white",
            "ticks": ""
           },
           "baxis": {
            "gridcolor": "white",
            "linecolor": "white",
            "ticks": ""
           },
           "bgcolor": "#E5ECF6",
           "caxis": {
            "gridcolor": "white",
            "linecolor": "white",
            "ticks": ""
           }
          },
          "title": {
           "x": 0.05
          },
          "xaxis": {
           "automargin": true,
           "gridcolor": "white",
           "linecolor": "white",
           "ticks": "",
           "title": {
            "standoff": 15
           },
           "zerolinecolor": "white",
           "zerolinewidth": 2
          },
          "yaxis": {
           "automargin": true,
           "gridcolor": "white",
           "linecolor": "white",
           "ticks": "",
           "title": {
            "standoff": 15
           },
           "zerolinecolor": "white",
           "zerolinewidth": 2
          }
         }
        },
        "title": {
         "text": "Distribution of Recipe Types"
        },
        "width": 800
       }
      },
      "image/png": "[encoded data removed]",
      "text/html": [
       "<div>                            <div id=\"d70e5d3a-7d0f-4703-ad4a-aac0ec46abeb\" class=\"plotly-graph-div\" style=\"height:600px; width:800px;\"></div>            <script type=\"text/javascript\">                require([\"plotly\"], function(Plotly) {                    window.PLOTLYENV=window.PLOTLYENV || {};                                    if (document.getElementById(\"d70e5d3a-7d0f-4703-ad4a-aac0ec46abeb\")) {                    Plotly.newPlot(                        \"d70e5d3a-7d0f-4703-ad4a-aac0ec46abeb\",                        [{\"domain\":{\"x\":[0.0,1.0],\"y\":[0.0,1.0]},\"hole\":0.3,\"hovertemplate\":\"Type=%{label}<br>count=%{value}<extra></extra>\",\"labels\":[\"Mexican\",\"Main Dish\",\"Indian\",\"European\",\"Side Dish\",\"Africa & Middle East\",\"Appetizers\",\"Low-Fat\",\"Standard\",\"Gluten-Free\",\"Low-Carb\",\"Asian\",\"Diabetic\",\"American\",\"Breakfast and Brunch\"],\"legendgroup\":\"\",\"name\":\"\",\"showlegend\":true,\"values\":[238,228,219,115,97,65,65,64,47,44,19,19,17,17,7],\"type\":\"pie\",\"textinfo\":\"percent+label\"}],                        {\"template\":{\"data\":{\"histogram2dcontour\":[{\"type\":\"histogram2dcontour\",\"colorbar\":{\"outlinewidth\":0,\"ticks\":\"\"},\"colorscale\":[[0.0,\"#0d0887\"],[0.1111111111111111,\"#46039f\"],[0.2222222222222222,\"#7201a8\"],[0.3333333333333333,\"#9c179e\"],[0.4444444444444444,\"#bd3786\"],[0.5555555555555556,\"#d8576b\"],[0.6666666666666666,\"#ed7953\"],[0.7777777777777778,\"#fb9f3a\"],[0.8888888888888888,\"#fdca26\"],[1.0,\"#f0f921\"]]}],\"choropleth\":[{\"type\":\"choropleth\",\"colorbar\":{\"outlinewidth\":0,\"ticks\":\"\"}}],\"histogram2d\":[{\"type\":\"histogram2d\",\"colorbar\":{\"outlinewidth\":0,\"ticks\":\"\"},\"colorscale\":[[0.0,\"#0d0887\"],[0.1111111111111111,\"#46039f\"],[0.2222222222222222,\"#7201a8\"],[0.3333333333333333,\"#9c179e\"],[0.4444444444444444,\"#bd3786\"],[0.5555555555555556,\"#d8576b\"],[0.6666666666666666,\"#ed7953\"],[0.7777777777777778,\"#fb9f3a\"],[0.8888888888888888,\"#fdca26\"],[1.0,\"#f0f921\"]]}],\"heatmap\":[{\"type\":\"heatmap\",\"colorbar\":{\"outlinewidth\":0,\"ticks\":\"\"},\"colorscale\":[[0.0,\"#0d0887\"],[0.1111111111111111,\"#46039f\"],[0.2222222222222222,\"#7201a8\"],[0.3333333333333333,\"#9c179e\"],[0.4444444444444444,\"#bd3786\"],[0.5555555555555556,\"#d8576b\"],[0.6666666666666666,\"#ed7953\"],[0.7777777777777778,\"#fb9f3a\"],[0.8888888888888888,\"#fdca26\"],[1.0,\"#f0f921\"]]}],\"heatmapgl\":[{\"type\":\"heatmapgl\",\"colorbar\":{\"outlinewidth\":0,\"ticks\":\"\"},\"colorscale\":[[0.0,\"#0d0887\"],[0.1111111111111111,\"#46039f\"],[0.2222222222222222,\"#7201a8\"],[0.3333333333333333,\"#9c179e\"],[0.4444444444444444,\"#bd3786\"],[0.5555555555555556,\"#d8576b\"],[0.6666666666666666,\"#ed7953\"],[0.7777777777777778,\"#fb9f3a\"],[0.8888888888888888,\"#fdca26\"],[1.0,\"#f0f921\"]]}],\"contourcarpet\":[{\"type\":\"contourcarpet\",\"colorbar\":{\"outlinewidth\":0,\"ticks\":\"\"}}],\"contour\":[{\"type\":\"contour\",\"colorbar\":{\"outlinewidth\":0,\"ticks\":\"\"},\"colorscale\":[[0.0,\"#0d0887\"],[0.1111111111111111,\"#46039f\"],[0.2222222222222222,\"#7201a8\"],[0.3333333333333333,\"#9c179e\"],[0.4444444444444444,\"#bd3786\"],[0.5555555555555556,\"#d8576b\"],[0.6666666666666666,\"#ed7953\"],[0.7777777777777778,\"#fb9f3a\"],[0.8888888888888888,\"#fdca26\"],[1.0,\"#f0f921\"]]}],\"surface\":[{\"type\":\"surface\",\"colorbar\":{\"outlinewidth\":0,\"ticks\":\"\"},\"colorscale\":[[0.0,\"#0d0887\"],[0.1111111111111111,\"#46039f\"],[0.2222222222222222,\"#7201a8\"],[0.3333333333333333,\"#9c179e\"],[0.4444444444444444,\"#bd3786\"],[0.5555555555555556,\"#d8576b\"],[0.6666666666666666,\"#ed7953\"],[0.7777777777777778,\"#fb9f3a\"],[0.8888888888888888,\"#fdca26\"],[1.0,\"#f0f921\"]]}],\"mesh3d\":[{\"type\":\"mesh3d\",\"colorbar\":{\"outlinewidth\":0,\"ticks\":\"\"}}],\"scatter\":[{\"fillpattern\":{\"fillmode\":\"overlay\",\"size\":10,\"solidity\":0.2},\"type\":\"scatter\"}],\"parcoords\":[{\"type\":\"parcoords\",\"line\":{\"colorbar\":{\"outlinewidth\":0,\"ticks\":\"\"}}}],\"scatterpolargl\":[{\"type\":\"scatterpolargl\",\"marker\":{\"colorbar\":{\"outlinewidth\":0,\"ticks\":\"\"}}}],\"bar\":[{\"error_x\":{\"color\":\"#2a3f5f\"},\"error_y\":{\"color\":\"#2a3f5f\"},\"marker\":{\"line\":{\"color\":\"#E5ECF6\",\"width\":0.5},\"pattern\":{\"fillmode\":\"overlay\",\"size\":10,\"solidity\":0.2}},\"type\":\"bar\"}],\"scattergeo\":[{\"type\":\"scattergeo\",\"marker\":{\"colorbar\":{\"outlinewidth\":0,\"ticks\":\"\"}}}],\"scatterpolar\":[{\"type\":\"scatterpolar\",\"marker\":{\"colorbar\":{\"outlinewidth\":0,\"ticks\":\"\"}}}],\"histogram\":[{\"marker\":{\"pattern\":{\"fillmode\":\"overlay\",\"size\":10,\"solidity\":0.2}},\"type\":\"histogram\"}],\"scattergl\":[{\"type\":\"scattergl\",\"marker\":{\"colorbar\":{\"outlinewidth\":0,\"ticks\":\"\"}}}],\"scatter3d\":[{\"type\":\"scatter3d\",\"line\":{\"colorbar\":{\"outlinewidth\":0,\"ticks\":\"\"}},\"marker\":{\"colorbar\":{\"outlinewidth\":0,\"ticks\":\"\"}}}],\"scattermapbox\":[{\"type\":\"scattermapbox\",\"marker\":{\"colorbar\":{\"outlinewidth\":0,\"ticks\":\"\"}}}],\"scatterternary\":[{\"type\":\"scatterternary\",\"marker\":{\"colorbar\":{\"outlinewidth\":0,\"ticks\":\"\"}}}],\"scattercarpet\":[{\"type\":\"scattercarpet\",\"marker\":{\"colorbar\":{\"outlinewidth\":0,\"ticks\":\"\"}}}],\"carpet\":[{\"aaxis\":{\"endlinecolor\":\"#2a3f5f\",\"gridcolor\":\"white\",\"linecolor\":\"white\",\"minorgridcolor\":\"white\",\"startlinecolor\":\"#2a3f5f\"},\"baxis\":{\"endlinecolor\":\"#2a3f5f\",\"gridcolor\":\"white\",\"linecolor\":\"white\",\"minorgridcolor\":\"white\",\"startlinecolor\":\"#2a3f5f\"},\"type\":\"carpet\"}],\"table\":[{\"cells\":{\"fill\":{\"color\":\"#EBF0F8\"},\"line\":{\"color\":\"white\"}},\"header\":{\"fill\":{\"color\":\"#C8D4E3\"},\"line\":{\"color\":\"white\"}},\"type\":\"table\"}],\"barpolar\":[{\"marker\":{\"line\":{\"color\":\"#E5ECF6\",\"width\":0.5},\"pattern\":{\"fillmode\":\"overlay\",\"size\":10,\"solidity\":0.2}},\"type\":\"barpolar\"}],\"pie\":[{\"automargin\":true,\"type\":\"pie\"}]},\"layout\":{\"autotypenumbers\":\"strict\",\"colorway\":[\"#636efa\",\"#EF553B\",\"#00cc96\",\"#ab63fa\",\"#FFA15A\",\"#19d3f3\",\"#FF6692\",\"#B6E880\",\"#FF97FF\",\"#FECB52\"],\"font\":{\"color\":\"#2a3f5f\"},\"hovermode\":\"closest\",\"hoverlabel\":{\"align\":\"left\"},\"paper_bgcolor\":\"white\",\"plot_bgcolor\":\"#E5ECF6\",\"polar\":{\"bgcolor\":\"#E5ECF6\",\"angularaxis\":{\"gridcolor\":\"white\",\"linecolor\":\"white\",\"ticks\":\"\"},\"radialaxis\":{\"gridcolor\":\"white\",\"linecolor\":\"white\",\"ticks\":\"\"}},\"ternary\":{\"bgcolor\":\"#E5ECF6\",\"aaxis\":{\"gridcolor\":\"white\",\"linecolor\":\"white\",\"ticks\":\"\"},\"baxis\":{\"gridcolor\":\"white\",\"linecolor\":\"white\",\"ticks\":\"\"},\"caxis\":{\"gridcolor\":\"white\",\"linecolor\":\"white\",\"ticks\":\"\"}},\"coloraxis\":{\"colorbar\":{\"outlinewidth\":0,\"ticks\":\"\"}},\"colorscale\":{\"sequential\":[[0.0,\"#0d0887\"],[0.1111111111111111,\"#46039f\"],[0.2222222222222222,\"#7201a8\"],[0.3333333333333333,\"#9c179e\"],[0.4444444444444444,\"#bd3786\"],[0.5555555555555556,\"#d8576b\"],[0.6666666666666666,\"#ed7953\"],[0.7777777777777778,\"#fb9f3a\"],[0.8888888888888888,\"#fdca26\"],[1.0,\"#f0f921\"]],\"sequentialminus\":[[0.0,\"#0d0887\"],[0.1111111111111111,\"#46039f\"],[0.2222222222222222,\"#7201a8\"],[0.3333333333333333,\"#9c179e\"],[0.4444444444444444,\"#bd3786\"],[0.5555555555555556,\"#d8576b\"],[0.6666666666666666,\"#ed7953\"],[0.7777777777777778,\"#fb9f3a\"],[0.8888888888888888,\"#fdca26\"],[1.0,\"#f0f921\"]],\"diverging\":[[0,\"#8e0152\"],[0.1,\"#c51b7d\"],[0.2,\"#de77ae\"],[0.3,\"#f1b6da\"],[0.4,\"#fde0ef\"],[0.5,\"#f7f7f7\"],[0.6,\"#e6f5d0\"],[0.7,\"#b8e186\"],[0.8,\"#7fbc41\"],[0.9,\"#4d9221\"],[1,\"#276419\"]]},\"xaxis\":{\"gridcolor\":\"white\",\"linecolor\":\"white\",\"ticks\":\"\",\"title\":{\"standoff\":15},\"zerolinecolor\":\"white\",\"automargin\":true,\"zerolinewidth\":2},\"yaxis\":{\"gridcolor\":\"white\",\"linecolor\":\"white\",\"ticks\":\"\",\"title\":{\"standoff\":15},\"zerolinecolor\":\"white\",\"automargin\":true,\"zerolinewidth\":2},\"scene\":{\"xaxis\":{\"backgroundcolor\":\"#E5ECF6\",\"gridcolor\":\"white\",\"linecolor\":\"white\",\"showbackground\":true,\"ticks\":\"\",\"zerolinecolor\":\"white\",\"gridwidth\":2},\"yaxis\":{\"backgroundcolor\":\"#E5ECF6\",\"gridcolor\":\"white\",\"linecolor\":\"white\",\"showbackground\":true,\"ticks\":\"\",\"zerolinecolor\":\"white\",\"gridwidth\":2},\"zaxis\":{\"backgroundcolor\":\"#E5ECF6\",\"gridcolor\":\"white\",\"linecolor\":\"white\",\"showbackground\":true,\"ticks\":\"\",\"zerolinecolor\":\"white\",\"gridwidth\":2}},\"shapedefaults\":{\"line\":{\"color\":\"#2a3f5f\"}},\"annotationdefaults\":{\"arrowcolor\":\"#2a3f5f\",\"arrowhead\":0,\"arrowwidth\":1},\"geo\":{\"bgcolor\":\"white\",\"landcolor\":\"#E5ECF6\",\"subunitcolor\":\"white\",\"showland\":true,\"showlakes\":true,\"lakecolor\":\"white\"},\"title\":{\"x\":0.05},\"mapbox\":{\"style\":\"light\"}}},\"legend\":{\"tracegroupgap\":0},\"title\":{\"text\":\"Distribution of Recipe Types\"},\"piecolorway\":[\"rgb(103,0,31)\",\"rgb(178,24,43)\",\"rgb(214,96,77)\",\"rgb(244,165,130)\",\"rgb(253,219,199)\",\"rgb(247,247,247)\",\"rgb(209,229,240)\",\"rgb(146,197,222)\",\"rgb(67,147,195)\",\"rgb(33,102,172)\",\"rgb(5,48,97)\"],\"showlegend\":false,\"width\":800,\"height\":600},                        {\"responsive\": true}                    ).then(function(){\n",
       "                            \n",
       "var gd = document.getElementById('d70e5d3a-7d0f-4703-ad4a-aac0ec46abeb');\n",
       "var x = new MutationObserver(function (mutations, observer) {{\n",
       "        var display = window.getComputedStyle(gd).display;\n",
       "        if (!display || display === 'none') {{\n",
       "            console.log([gd, 'removed!']);\n",
       "            Plotly.purge(gd);\n",
       "            observer.disconnect();\n",
       "        }}\n",
       "}});\n",
       "\n",
       "// Listen for the removal of the full notebook cells\n",
       "var notebookContainer = gd.closest('#notebook-container');\n",
       "if (notebookContainer) {{\n",
       "    x.observe(notebookContainer, {childList: true});\n",
       "}}\n",
       "\n",
       "// Listen for the clearing of the current output cell\n",
       "var outputEl = gd.closest('.output');\n",
       "if (outputEl) {{\n",
       "    x.observe(outputEl, {childList: true});\n",
       "}}\n",
       "\n",
       "                        })                };                });            </script>        </div>"
      ]
     },
     "metadata": {},
     "output_type": "display_data"
    }
   ],
   "source": [
    "import plotly.express as px\n",
    "import pandas as pd\n",
    "\n",
    "type_counts = pd.DataFrame(recommended_recipes['Type'].value_counts())\n",
    "\n",
    "# Plot an interactive pie chart\n",
    "fig = px.pie(type_counts, names=type_counts.index, values='count', title='Distribution of Recipe Types',\n",
    "             color_discrete_sequence=px.colors.sequential.RdBu, hole=0.3)\n",
    "\n",
    "# Add some additional styling if needed\n",
    "fig.update_traces(textinfo='percent+label')  \n",
    "fig.update_layout(showlegend=False, width=800, height=600)\n",
    "\n",
    "# Show the plot\n",
    "fig.show()"
   ]
  },
  {
   "cell_type": "code",
   "execution_count": 243,
   "id": "4b19a964-3beb-400b-8817-8f7fb11a0686",
   "metadata": {},
   "outputs": [
    {
     "data": {
      "text/plain": [
       "['Africa & Middle East',\n",
       " 'American',\n",
       " 'Appetizers',\n",
       " 'Asian',\n",
       " 'Breakfast and Brunch',\n",
       " 'Diabetic',\n",
       " 'European',\n",
       " 'Gluten-Free',\n",
       " 'Indian',\n",
       " 'Low-Carb',\n",
       " 'Low-Fat',\n",
       " 'Main Dish',\n",
       " 'Mexican',\n",
       " 'Side Dish',\n",
       " 'Standard']"
      ]
     },
     "execution_count": 243,
     "metadata": {},
     "output_type": "execute_result"
    }
   ],
   "source": [
    "listp = ['salt','carrots','water']\n",
    "filtered_recipes = recommended_recipes[~recommended_recipes['Ingredients'].apply(lambda x: any(ingredient in x for ingredient in listp))].reset_index(drop=True)\n",
    "\n",
    "list(np.unique(filtered_recipes.Type))"
   ]
  },
  {
   "cell_type": "markdown",
   "id": "d4d7c1dd-fd55-4018-9c72-c1f4bc8d506f",
   "metadata": {},
   "source": [
    "## FP-growth"
   ]
  },
  {
   "cell_type": "code",
   "execution_count": 72,
   "id": "ca70377b",
   "metadata": {},
   "outputs": [
    {
     "name": "stdout",
     "output_type": "stream",
     "text": [
      "298\n"
     ]
    },
    {
     "data": {
      "text/html": [
       "<div>\n",
       "<style scoped>\n",
       "    .dataframe tbody tr th:only-of-type {\n",
       "        vertical-align: middle;\n",
       "    }\n",
       "\n",
       "    .dataframe tbody tr th {\n",
       "        vertical-align: top;\n",
       "    }\n",
       "\n",
       "    .dataframe thead th {\n",
       "        text-align: right;\n",
       "    }\n",
       "</style>\n",
       "<table border=\"1\" class=\"dataframe\">\n",
       "  <thead>\n",
       "    <tr style=\"text-align: right;\">\n",
       "      <th></th>\n",
       "      <th>antecedents</th>\n",
       "      <th>consequents</th>\n",
       "      <th>antecedent support</th>\n",
       "      <th>consequent support</th>\n",
       "      <th>support</th>\n",
       "      <th>confidence</th>\n",
       "      <th>lift</th>\n",
       "      <th>leverage</th>\n",
       "      <th>conviction</th>\n",
       "      <th>zhangs_metric</th>\n",
       "    </tr>\n",
       "  </thead>\n",
       "  <tbody>\n",
       "    <tr>\n",
       "      <th>0</th>\n",
       "      <td>(allpurpose flour)</td>\n",
       "      <td>(eggs)</td>\n",
       "      <td>0.223047</td>\n",
       "      <td>0.273111</td>\n",
       "      <td>0.133547</td>\n",
       "      <td>0.598737</td>\n",
       "      <td>2.192282</td>\n",
       "      <td>0.072630</td>\n",
       "      <td>1.811502</td>\n",
       "      <td>0.699984</td>\n",
       "    </tr>\n",
       "    <tr>\n",
       "      <th>1</th>\n",
       "      <td>(eggs)</td>\n",
       "      <td>(allpurpose flour)</td>\n",
       "      <td>0.273111</td>\n",
       "      <td>0.223047</td>\n",
       "      <td>0.133547</td>\n",
       "      <td>0.488983</td>\n",
       "      <td>2.192282</td>\n",
       "      <td>0.072630</td>\n",
       "      <td>1.520404</td>\n",
       "      <td>0.748195</td>\n",
       "    </tr>\n",
       "    <tr>\n",
       "      <th>2</th>\n",
       "      <td>(allpurpose flour)</td>\n",
       "      <td>(garlic)</td>\n",
       "      <td>0.223047</td>\n",
       "      <td>0.285019</td>\n",
       "      <td>0.022919</td>\n",
       "      <td>0.102755</td>\n",
       "      <td>0.360521</td>\n",
       "      <td>-0.040653</td>\n",
       "      <td>0.796863</td>\n",
       "      <td>-0.695398</td>\n",
       "    </tr>\n",
       "    <tr>\n",
       "      <th>3</th>\n",
       "      <td>(black pepper)</td>\n",
       "      <td>(allpurpose flour)</td>\n",
       "      <td>0.228809</td>\n",
       "      <td>0.223047</td>\n",
       "      <td>0.033547</td>\n",
       "      <td>0.146614</td>\n",
       "      <td>0.657324</td>\n",
       "      <td>-0.017489</td>\n",
       "      <td>0.910436</td>\n",
       "      <td>-0.403339</td>\n",
       "    </tr>\n",
       "    <tr>\n",
       "      <th>4</th>\n",
       "      <td>(allpurpose flour)</td>\n",
       "      <td>(black pepper)</td>\n",
       "      <td>0.223047</td>\n",
       "      <td>0.228809</td>\n",
       "      <td>0.033547</td>\n",
       "      <td>0.150402</td>\n",
       "      <td>0.657324</td>\n",
       "      <td>-0.017489</td>\n",
       "      <td>0.907712</td>\n",
       "      <td>-0.401549</td>\n",
       "    </tr>\n",
       "    <tr>\n",
       "      <th>...</th>\n",
       "      <td>...</td>\n",
       "      <td>...</td>\n",
       "      <td>...</td>\n",
       "      <td>...</td>\n",
       "      <td>...</td>\n",
       "      <td>...</td>\n",
       "      <td>...</td>\n",
       "      <td>...</td>\n",
       "      <td>...</td>\n",
       "      <td>...</td>\n",
       "    </tr>\n",
       "    <tr>\n",
       "      <th>595</th>\n",
       "      <td>(cloves)</td>\n",
       "      <td>(cinnamon)</td>\n",
       "      <td>0.030090</td>\n",
       "      <td>0.100896</td>\n",
       "      <td>0.021639</td>\n",
       "      <td>0.719149</td>\n",
       "      <td>7.127606</td>\n",
       "      <td>0.018603</td>\n",
       "      <td>3.201354</td>\n",
       "      <td>0.886371</td>\n",
       "    </tr>\n",
       "    <tr>\n",
       "      <th>596</th>\n",
       "      <td>(allpurpose flour)</td>\n",
       "      <td>(butter unsalted)</td>\n",
       "      <td>0.223047</td>\n",
       "      <td>0.045711</td>\n",
       "      <td>0.023047</td>\n",
       "      <td>0.103330</td>\n",
       "      <td>2.260514</td>\n",
       "      <td>0.012852</td>\n",
       "      <td>1.064259</td>\n",
       "      <td>0.717705</td>\n",
       "    </tr>\n",
       "    <tr>\n",
       "      <th>597</th>\n",
       "      <td>(butter unsalted)</td>\n",
       "      <td>(allpurpose flour)</td>\n",
       "      <td>0.045711</td>\n",
       "      <td>0.223047</td>\n",
       "      <td>0.023047</td>\n",
       "      <td>0.504202</td>\n",
       "      <td>2.260514</td>\n",
       "      <td>0.012852</td>\n",
       "      <td>1.567074</td>\n",
       "      <td>0.584333</td>\n",
       "    </tr>\n",
       "    <tr>\n",
       "      <th>598</th>\n",
       "      <td>(butter unsalted)</td>\n",
       "      <td>(eggs)</td>\n",
       "      <td>0.045711</td>\n",
       "      <td>0.273111</td>\n",
       "      <td>0.022919</td>\n",
       "      <td>0.501401</td>\n",
       "      <td>1.835883</td>\n",
       "      <td>0.010435</td>\n",
       "      <td>1.457861</td>\n",
       "      <td>0.477112</td>\n",
       "    </tr>\n",
       "    <tr>\n",
       "      <th>599</th>\n",
       "      <td>(curry powder)</td>\n",
       "      <td>(onions)</td>\n",
       "      <td>0.043022</td>\n",
       "      <td>0.256338</td>\n",
       "      <td>0.023688</td>\n",
       "      <td>0.550595</td>\n",
       "      <td>2.147926</td>\n",
       "      <td>0.012659</td>\n",
       "      <td>1.654771</td>\n",
       "      <td>0.558461</td>\n",
       "    </tr>\n",
       "  </tbody>\n",
       "</table>\n",
       "<p>600 rows × 10 columns</p>\n",
       "</div>"
      ],
      "text/plain": [
       "            antecedents         consequents  antecedent support  \\\n",
       "0    (allpurpose flour)              (eggs)            0.223047   \n",
       "1                (eggs)  (allpurpose flour)            0.273111   \n",
       "2    (allpurpose flour)            (garlic)            0.223047   \n",
       "3        (black pepper)  (allpurpose flour)            0.228809   \n",
       "4    (allpurpose flour)      (black pepper)            0.223047   \n",
       "..                  ...                 ...                 ...   \n",
       "595            (cloves)          (cinnamon)            0.030090   \n",
       "596  (allpurpose flour)   (butter unsalted)            0.223047   \n",
       "597   (butter unsalted)  (allpurpose flour)            0.045711   \n",
       "598   (butter unsalted)              (eggs)            0.045711   \n",
       "599      (curry powder)            (onions)            0.043022   \n",
       "\n",
       "     consequent support   support  confidence      lift  leverage  conviction  \\\n",
       "0              0.273111  0.133547    0.598737  2.192282  0.072630    1.811502   \n",
       "1              0.223047  0.133547    0.488983  2.192282  0.072630    1.520404   \n",
       "2              0.285019  0.022919    0.102755  0.360521 -0.040653    0.796863   \n",
       "3              0.223047  0.033547    0.146614  0.657324 -0.017489    0.910436   \n",
       "4              0.228809  0.033547    0.150402  0.657324 -0.017489    0.907712   \n",
       "..                  ...       ...         ...       ...       ...         ...   \n",
       "595            0.100896  0.021639    0.719149  7.127606  0.018603    3.201354   \n",
       "596            0.045711  0.023047    0.103330  2.260514  0.012852    1.064259   \n",
       "597            0.223047  0.023047    0.504202  2.260514  0.012852    1.567074   \n",
       "598            0.273111  0.022919    0.501401  1.835883  0.010435    1.457861   \n",
       "599            0.256338  0.023688    0.550595  2.147926  0.012659    1.654771   \n",
       "\n",
       "     zhangs_metric  \n",
       "0         0.699984  \n",
       "1         0.748195  \n",
       "2        -0.695398  \n",
       "3        -0.403339  \n",
       "4        -0.401549  \n",
       "..             ...  \n",
       "595       0.886371  \n",
       "596       0.717705  \n",
       "597       0.584333  \n",
       "598       0.477112  \n",
       "599       0.558461  \n",
       "\n",
       "[600 rows x 10 columns]"
      ]
     },
     "execution_count": 72,
     "metadata": {},
     "output_type": "execute_result"
    }
   ],
   "source": [
    "from mlxtend.frequent_patterns import fpgrowth, association_rules\n",
    "\n",
    "frequent_itemsets_fp = fpgrowth(df_encoded, min_support=0.02, use_colnames=True)\n",
    "print(len(frequent_itemsets_fp))\n",
    "association_rules_fp = association_rules(frequent_itemsets_fp, metric=\"confidence\", min_threshold=0.1)\n",
    "association_rules_fp\n"
   ]
  },
  {
   "cell_type": "code",
   "execution_count": 75,
   "id": "4a21eab0",
   "metadata": {},
   "outputs": [
    {
     "name": "stdout",
     "output_type": "stream",
     "text": [
      "1\n",
      "Recommended Ingredients: ['cinnamon']\n"
     ]
    }
   ],
   "source": [
    "def recommend_recipes(ingredients, rules):\n",
    "    relevant_rules = rules[rules['antecedents'].apply(lambda x: set(ingredients).issubset(set(x)))]\n",
    "    relevant_rules = relevant_rules.sort_values(by='confidence', ascending=False)\n",
    "    print(len(relevant_rules['consequents']))\n",
    "    \n",
    "    top_rules = relevant_rules.iloc[0:3]\n",
    "    recommended_ingredients = list(top_rules['consequents'])\n",
    "\n",
    "    unique_ingredients = set()\n",
    "    for item in recommended_ingredients:\n",
    "        unique_ingredients.update(item)\n",
    "    \n",
    "    return list(unique_ingredients)\n",
    "\n",
    "user_input_ingredients = ['cloves']\n",
    "\n",
    "recommended_ingredients = recommend_recipes(user_input_ingredients, rules)\n",
    "\n",
    "\n",
    "print('Recommended Ingredients:', recommended_ingredients)"
   ]
  },
  {
   "cell_type": "code",
   "execution_count": 76,
   "id": "db64de65",
   "metadata": {},
   "outputs": [
    {
     "data": {
      "text/html": [
       "<div>\n",
       "<style scoped>\n",
       "    .dataframe tbody tr th:only-of-type {\n",
       "        vertical-align: middle;\n",
       "    }\n",
       "\n",
       "    .dataframe tbody tr th {\n",
       "        vertical-align: top;\n",
       "    }\n",
       "\n",
       "    .dataframe thead th {\n",
       "        text-align: right;\n",
       "    }\n",
       "</style>\n",
       "<table border=\"1\" class=\"dataframe\">\n",
       "  <thead>\n",
       "    <tr style=\"text-align: right;\">\n",
       "      <th></th>\n",
       "      <th>Title</th>\n",
       "      <th>Ingredients</th>\n",
       "      <th>Type</th>\n",
       "    </tr>\n",
       "  </thead>\n",
       "  <tbody>\n",
       "    <tr>\n",
       "      <th>6</th>\n",
       "      <td>Diabetic Cranberry Sauce</td>\n",
       "      <td>[orange juice, nutmeg, water, cinnamon, lemon,...</td>\n",
       "      <td>Diabetic</td>\n",
       "    </tr>\n",
       "    <tr>\n",
       "      <th>19</th>\n",
       "      <td>Carrot-Raisin Muffins</td>\n",
       "      <td>[wheat germ, nutmeg, sugar substitute, carrots...</td>\n",
       "      <td>Diabetic</td>\n",
       "    </tr>\n",
       "    <tr>\n",
       "      <th>68</th>\n",
       "      <td>Apple Sauce Wheat Germ Cake</td>\n",
       "      <td>[wheat germ, nutmeg, orange juice, sugar, baki...</td>\n",
       "      <td>Diabetic</td>\n",
       "    </tr>\n",
       "    <tr>\n",
       "      <th>90</th>\n",
       "      <td>Carrot Cake-Diabetic</td>\n",
       "      <td>[nutmeg, water, baking powder, dates, raisins ...</td>\n",
       "      <td>Diabetic</td>\n",
       "    </tr>\n",
       "    <tr>\n",
       "      <th>92</th>\n",
       "      <td>Cherry Spice Cake</td>\n",
       "      <td>[nutmeg, soy flour, milk, milk skim non fat po...</td>\n",
       "      <td>Diabetic</td>\n",
       "    </tr>\n",
       "    <tr>\n",
       "      <th>...</th>\n",
       "      <td>...</td>\n",
       "      <td>...</td>\n",
       "      <td>...</td>\n",
       "    </tr>\n",
       "    <tr>\n",
       "      <th>8783</th>\n",
       "      <td>Spiced Cider with Cranberries</td>\n",
       "      <td>[nutmeg, crystallized ginger candied, oranges,...</td>\n",
       "      <td>Side Dish</td>\n",
       "    </tr>\n",
       "    <tr>\n",
       "      <th>8784</th>\n",
       "      <td>Spiced Pumpkin Soup</td>\n",
       "      <td>[nutmeg, shallots, pumpkin, celery, cumin, cor...</td>\n",
       "      <td>Side Dish</td>\n",
       "    </tr>\n",
       "    <tr>\n",
       "      <th>9078</th>\n",
       "      <td>Ramsay's Roasted Butternut Squash Hummus</td>\n",
       "      <td>[mustard seeds, garlic, buttercup squash, oliv...</td>\n",
       "      <td>Appetizers</td>\n",
       "    </tr>\n",
       "    <tr>\n",
       "      <th>9091</th>\n",
       "      <td>Simple Baklava Bites</td>\n",
       "      <td>[sugar, apricots, honey, butter, bread crumbs,...</td>\n",
       "      <td>Appetizers</td>\n",
       "    </tr>\n",
       "    <tr>\n",
       "      <th>9521</th>\n",
       "      <td>Crisp Split Peas</td>\n",
       "      <td>[chili powder, split peas, corander, vegetable...</td>\n",
       "      <td>Appetizers</td>\n",
       "    </tr>\n",
       "  </tbody>\n",
       "</table>\n",
       "<p>189 rows × 3 columns</p>\n",
       "</div>"
      ],
      "text/plain": [
       "                                         Title  \\\n",
       "6                     Diabetic Cranberry Sauce   \n",
       "19                       Carrot-Raisin Muffins   \n",
       "68                 Apple Sauce Wheat Germ Cake   \n",
       "90                        Carrot Cake-Diabetic   \n",
       "92                           Cherry Spice Cake   \n",
       "...                                        ...   \n",
       "8783            Spiced Cider with Cranberries    \n",
       "8784                       Spiced Pumpkin Soup   \n",
       "9078  Ramsay's Roasted Butternut Squash Hummus   \n",
       "9091                      Simple Baklava Bites   \n",
       "9521                          Crisp Split Peas   \n",
       "\n",
       "                                            Ingredients        Type  \n",
       "6     [orange juice, nutmeg, water, cinnamon, lemon,...    Diabetic  \n",
       "19    [wheat germ, nutmeg, sugar substitute, carrots...    Diabetic  \n",
       "68    [wheat germ, nutmeg, orange juice, sugar, baki...    Diabetic  \n",
       "90    [nutmeg, water, baking powder, dates, raisins ...    Diabetic  \n",
       "92    [nutmeg, soy flour, milk, milk skim non fat po...    Diabetic  \n",
       "...                                                 ...         ...  \n",
       "8783  [nutmeg, crystallized ginger candied, oranges,...   Side Dish  \n",
       "8784  [nutmeg, shallots, pumpkin, celery, cumin, cor...   Side Dish  \n",
       "9078  [mustard seeds, garlic, buttercup squash, oliv...  Appetizers  \n",
       "9091  [sugar, apricots, honey, butter, bread crumbs,...  Appetizers  \n",
       "9521  [chili powder, split peas, corander, vegetable...  Appetizers  \n",
       "\n",
       "[189 rows x 3 columns]"
      ]
     },
     "execution_count": 76,
     "metadata": {},
     "output_type": "execute_result"
    }
   ],
   "source": [
    "Ings  = list(recommended_ingredients) + user_input_ingredients\n",
    "\n",
    "recommended_recipes = df[df['Ingredients'].apply(lambda x: all(ingredient in x for ingredient in Ings))]\n",
    "\n",
    "recommended_recipes"
   ]
  },
  {
   "cell_type": "code",
   "execution_count": 79,
   "id": "9afae4f1",
   "metadata": {},
   "outputs": [
    {
     "data": {
      "text/plain": [
       "(array(['Africa & Middle East', 'American', 'Appetizers', 'Asian',\n",
       "        'Breakfast and Brunch', 'Dessert', 'Diabetic', 'European',\n",
       "        'Gluten-Free', 'Indian', 'Low-Fat', 'Main Dish', 'Mexican',\n",
       "        'Side Dish', 'Standard'], dtype=object),\n",
       " array([18,  1,  3,  1, 14, 45,  8, 11,  1, 42,  1,  8, 12, 18,  6]))"
      ]
     },
     "execution_count": 79,
     "metadata": {},
     "output_type": "execute_result"
    }
   ],
   "source": [
    "np.unique(recommended_recipes.Type,return_counts=True)"
   ]
  }
 ],
 "metadata": {
  "kernelspec": {
   "display_name": "Python 3 (ipykernel)",
   "language": "python",
   "name": "python3"
  },
  "language_info": {
   "codemirror_mode": {
    "name": "ipython",
    "version": 3
   },
   "file_extension": ".py",
   "mimetype": "text/x-python",
   "name": "python",
   "nbconvert_exporter": "python",
   "pygments_lexer": "ipython3",
   "version": "3.11.5"
  }
 },
 "nbformat": 4,
 "nbformat_minor": 5
}
